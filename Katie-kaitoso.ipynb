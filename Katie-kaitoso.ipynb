{
 "cells": [
  {
   "cell_type": "raw",
   "id": "c83f679d",
   "metadata": {},
   "source": [
    "#Projeto Katie - Ciência de Dados"
   ]
  },
  {
   "cell_type": "code",
   "execution_count": 1,
   "id": "53ae0391",
   "metadata": {
    "scrolled": false
   },
   "outputs": [],
   "source": [
    "import  pandas  as  pd\n",
    "import  matplotlib\n"
   ]
  },
  {
   "cell_type": "code",
   "execution_count": 2,
   "id": "3a467416",
   "metadata": {},
   "outputs": [],
   "source": [
    "dataSet  =  pd . read_csv ( \"brutos/dados_dadosos/MICRODADOS_ENEM_2021.csv\" , sep = \";\" , encoding = 'ISO-8859-1' )"
   ]
  },
  {
   "cell_type": "code",
   "execution_count": 3,
   "id": "a499caad",
   "metadata": {},
   "outputs": [],
   "source": [
    "#visualização das primeiras 5 linhas do conjunto de dados usanto o método head()"
   ]
  },
  {
   "cell_type": "code",
   "execution_count": 5,
   "id": "dd277537",
   "metadata": {
    "scrolled": true
   },
   "outputs": [
    {
     "data": {
      "text/html": [
       "<div>\n",
       "<style scoped>\n",
       "    .dataframe tbody tr th:only-of-type {\n",
       "        vertical-align: middle;\n",
       "    }\n",
       "\n",
       "    .dataframe tbody tr th {\n",
       "        vertical-align: top;\n",
       "    }\n",
       "\n",
       "    .dataframe thead th {\n",
       "        text-align: right;\n",
       "    }\n",
       "</style>\n",
       "<table border=\"1\" class=\"dataframe\">\n",
       "  <thead>\n",
       "    <tr style=\"text-align: right;\">\n",
       "      <th></th>\n",
       "      <th>NU_INSCRICAO</th>\n",
       "      <th>NU_ANO</th>\n",
       "      <th>TP_FAIXA_ETARIA</th>\n",
       "      <th>TP_SEXO</th>\n",
       "      <th>TP_ESTADO_CIVIL</th>\n",
       "      <th>TP_COR_RACA</th>\n",
       "      <th>TP_NACIONALIDADE</th>\n",
       "      <th>TP_ST_CONCLUSAO</th>\n",
       "      <th>TP_ANO_CONCLUIU</th>\n",
       "      <th>TP_ESCOLA</th>\n",
       "      <th>...</th>\n",
       "      <th>Q016</th>\n",
       "      <th>Q017</th>\n",
       "      <th>Q018</th>\n",
       "      <th>Q019</th>\n",
       "      <th>Q020</th>\n",
       "      <th>Q021</th>\n",
       "      <th>Q022</th>\n",
       "      <th>Q023</th>\n",
       "      <th>Q024</th>\n",
       "      <th>Q025</th>\n",
       "    </tr>\n",
       "  </thead>\n",
       "  <tbody>\n",
       "    <tr>\n",
       "      <th>0</th>\n",
       "      <td>210053865474</td>\n",
       "      <td>2021</td>\n",
       "      <td>5</td>\n",
       "      <td>F</td>\n",
       "      <td>1</td>\n",
       "      <td>1</td>\n",
       "      <td>1</td>\n",
       "      <td>1</td>\n",
       "      <td>3</td>\n",
       "      <td>1</td>\n",
       "      <td>...</td>\n",
       "      <td>A</td>\n",
       "      <td>A</td>\n",
       "      <td>A</td>\n",
       "      <td>B</td>\n",
       "      <td>A</td>\n",
       "      <td>A</td>\n",
       "      <td>B</td>\n",
       "      <td>A</td>\n",
       "      <td>B</td>\n",
       "      <td>B</td>\n",
       "    </tr>\n",
       "    <tr>\n",
       "      <th>1</th>\n",
       "      <td>210052384164</td>\n",
       "      <td>2021</td>\n",
       "      <td>12</td>\n",
       "      <td>M</td>\n",
       "      <td>1</td>\n",
       "      <td>1</td>\n",
       "      <td>1</td>\n",
       "      <td>1</td>\n",
       "      <td>11</td>\n",
       "      <td>1</td>\n",
       "      <td>...</td>\n",
       "      <td>A</td>\n",
       "      <td>A</td>\n",
       "      <td>A</td>\n",
       "      <td>B</td>\n",
       "      <td>A</td>\n",
       "      <td>A</td>\n",
       "      <td>C</td>\n",
       "      <td>A</td>\n",
       "      <td>A</td>\n",
       "      <td>A</td>\n",
       "    </tr>\n",
       "    <tr>\n",
       "      <th>2</th>\n",
       "      <td>210052589243</td>\n",
       "      <td>2021</td>\n",
       "      <td>13</td>\n",
       "      <td>F</td>\n",
       "      <td>3</td>\n",
       "      <td>1</td>\n",
       "      <td>1</td>\n",
       "      <td>1</td>\n",
       "      <td>15</td>\n",
       "      <td>1</td>\n",
       "      <td>...</td>\n",
       "      <td>B</td>\n",
       "      <td>A</td>\n",
       "      <td>A</td>\n",
       "      <td>B</td>\n",
       "      <td>A</td>\n",
       "      <td>A</td>\n",
       "      <td>C</td>\n",
       "      <td>B</td>\n",
       "      <td>B</td>\n",
       "      <td>B</td>\n",
       "    </tr>\n",
       "    <tr>\n",
       "      <th>3</th>\n",
       "      <td>210052128335</td>\n",
       "      <td>2021</td>\n",
       "      <td>3</td>\n",
       "      <td>M</td>\n",
       "      <td>1</td>\n",
       "      <td>3</td>\n",
       "      <td>1</td>\n",
       "      <td>2</td>\n",
       "      <td>0</td>\n",
       "      <td>2</td>\n",
       "      <td>...</td>\n",
       "      <td>A</td>\n",
       "      <td>A</td>\n",
       "      <td>A</td>\n",
       "      <td>B</td>\n",
       "      <td>A</td>\n",
       "      <td>A</td>\n",
       "      <td>B</td>\n",
       "      <td>A</td>\n",
       "      <td>B</td>\n",
       "      <td>B</td>\n",
       "    </tr>\n",
       "    <tr>\n",
       "      <th>4</th>\n",
       "      <td>210051353021</td>\n",
       "      <td>2021</td>\n",
       "      <td>2</td>\n",
       "      <td>F</td>\n",
       "      <td>1</td>\n",
       "      <td>3</td>\n",
       "      <td>1</td>\n",
       "      <td>2</td>\n",
       "      <td>0</td>\n",
       "      <td>2</td>\n",
       "      <td>...</td>\n",
       "      <td>B</td>\n",
       "      <td>A</td>\n",
       "      <td>A</td>\n",
       "      <td>B</td>\n",
       "      <td>A</td>\n",
       "      <td>B</td>\n",
       "      <td>E</td>\n",
       "      <td>A</td>\n",
       "      <td>B</td>\n",
       "      <td>B</td>\n",
       "    </tr>\n",
       "  </tbody>\n",
       "</table>\n",
       "<p>5 rows × 76 columns</p>\n",
       "</div>"
      ],
      "text/plain": [
       "   NU_INSCRICAO  NU_ANO  TP_FAIXA_ETARIA TP_SEXO  TP_ESTADO_CIVIL  \\\n",
       "0  210053865474    2021                5       F                1   \n",
       "1  210052384164    2021               12       M                1   \n",
       "2  210052589243    2021               13       F                3   \n",
       "3  210052128335    2021                3       M                1   \n",
       "4  210051353021    2021                2       F                1   \n",
       "\n",
       "   TP_COR_RACA  TP_NACIONALIDADE  TP_ST_CONCLUSAO  TP_ANO_CONCLUIU  TP_ESCOLA  \\\n",
       "0            1                 1                1                3          1   \n",
       "1            1                 1                1               11          1   \n",
       "2            1                 1                1               15          1   \n",
       "3            3                 1                2                0          2   \n",
       "4            3                 1                2                0          2   \n",
       "\n",
       "   ...  Q016  Q017  Q018 Q019  Q020 Q021  Q022  Q023  Q024  Q025  \n",
       "0  ...     A     A     A    B     A    A     B     A     B     B  \n",
       "1  ...     A     A     A    B     A    A     C     A     A     A  \n",
       "2  ...     B     A     A    B     A    A     C     B     B     B  \n",
       "3  ...     A     A     A    B     A    A     B     A     B     B  \n",
       "4  ...     B     A     A    B     A    B     E     A     B     B  \n",
       "\n",
       "[5 rows x 76 columns]"
      ]
     },
     "execution_count": 5,
     "metadata": {},
     "output_type": "execute_result"
    }
   ],
   "source": [
    "dataSet.head()"
   ]
  },
  {
   "cell_type": "code",
   "execution_count": 6,
   "id": "71af5b23",
   "metadata": {},
   "outputs": [],
   "source": [
    "#Listando a quantidade de colunas e seus nomes para facilitar o tratamento"
   ]
  },
  {
   "cell_type": "code",
   "execution_count": 7,
   "id": "812c5eb9",
   "metadata": {},
   "outputs": [
    {
     "data": {
      "text/plain": [
       "array(['NU_INSCRICAO', 'NU_ANO', 'TP_FAIXA_ETARIA', 'TP_SEXO',\n",
       "       'TP_ESTADO_CIVIL', 'TP_COR_RACA', 'TP_NACIONALIDADE',\n",
       "       'TP_ST_CONCLUSAO', 'TP_ANO_CONCLUIU', 'TP_ESCOLA', 'TP_ENSINO',\n",
       "       'IN_TREINEIRO', 'CO_MUNICIPIO_ESC', 'NO_MUNICIPIO_ESC',\n",
       "       'CO_UF_ESC', 'SG_UF_ESC', 'TP_DEPENDENCIA_ADM_ESC',\n",
       "       'TP_LOCALIZACAO_ESC', 'TP_SIT_FUNC_ESC', 'CO_MUNICIPIO_PROVA',\n",
       "       'NO_MUNICIPIO_PROVA', 'CO_UF_PROVA', 'SG_UF_PROVA',\n",
       "       'TP_PRESENCA_CN', 'TP_PRESENCA_CH', 'TP_PRESENCA_LC',\n",
       "       'TP_PRESENCA_MT', 'CO_PROVA_CN', 'CO_PROVA_CH', 'CO_PROVA_LC',\n",
       "       'CO_PROVA_MT', 'NU_NOTA_CN', 'NU_NOTA_CH', 'NU_NOTA_LC',\n",
       "       'NU_NOTA_MT', 'TX_RESPOSTAS_CN', 'TX_RESPOSTAS_CH',\n",
       "       'TX_RESPOSTAS_LC', 'TX_RESPOSTAS_MT', 'TP_LINGUA',\n",
       "       'TX_GABARITO_CN', 'TX_GABARITO_CH', 'TX_GABARITO_LC',\n",
       "       'TX_GABARITO_MT', 'TP_STATUS_REDACAO', 'NU_NOTA_COMP1',\n",
       "       'NU_NOTA_COMP2', 'NU_NOTA_COMP3', 'NU_NOTA_COMP4', 'NU_NOTA_COMP5',\n",
       "       'NU_NOTA_REDACAO', 'Q001', 'Q002', 'Q003', 'Q004', 'Q005', 'Q006',\n",
       "       'Q007', 'Q008', 'Q009', 'Q010', 'Q011', 'Q012', 'Q013', 'Q014',\n",
       "       'Q015', 'Q016', 'Q017', 'Q018', 'Q019', 'Q020', 'Q021', 'Q022',\n",
       "       'Q023', 'Q024', 'Q025'], dtype=object)"
      ]
     },
     "execution_count": 7,
     "metadata": {},
     "output_type": "execute_result"
    }
   ],
   "source": [
    "dataSet.columns.values\n"
   ]
  },
  {
   "cell_type": "code",
   "execution_count": 8,
   "id": "ab78f172",
   "metadata": {},
   "outputs": [],
   "source": [
    "#Selecionando um determinado grupo de colunas para realizar análises e visualizações"
   ]
  },
  {
   "cell_type": "code",
   "execution_count": 9,
   "id": "8bcbc1b5",
   "metadata": {},
   "outputs": [],
   "source": [
    "colunasSelecionadas = ['NU_INSCRICAO', 'NU_ANO', 'TP_FAIXA_ETARIA', 'TP_SEXO',\n",
    "       'TP_ESTADO_CIVIL', 'TP_COR_RACA', 'TP_NACIONALIDADE',\n",
    "       'TP_ST_CONCLUSAO', 'TP_ANO_CONCLUIU', 'TP_ESCOLA', 'TP_ENSINO',\n",
    "       'IN_TREINEIRO', 'CO_MUNICIPIO_ESC', 'NO_MUNICIPIO_ESC',\n",
    "       'CO_UF_ESC', 'SG_UF_ESC', 'TP_DEPENDENCIA_ADM_ESC',\n",
    "       'TP_LOCALIZACAO_ESC', 'TP_SIT_FUNC_ESC', 'CO_MUNICIPIO_PROVA',\n",
    "       'NO_MUNICIPIO_PROVA', 'CO_UF_PROVA', 'SG_UF_PROVA',\n",
    "       'TP_PRESENCA_CN', 'TP_PRESENCA_CH', 'TP_PRESENCA_LC',\n",
    "       'TP_PRESENCA_MT', 'CO_PROVA_CN', 'CO_PROVA_CH', 'CO_PROVA_LC',\n",
    "       'CO_PROVA_MT', 'NU_NOTA_CN', 'NU_NOTA_CH', 'NU_NOTA_LC',\n",
    "       'NU_NOTA_MT', 'TX_RESPOSTAS_CN', 'TX_RESPOSTAS_CH',\n",
    "       'TX_RESPOSTAS_LC', 'TX_RESPOSTAS_MT', 'TP_LINGUA',\n",
    "       'TX_GABARITO_CN', 'TX_GABARITO_CH', 'TX_GABARITO_LC',\n",
    "       'TX_GABARITO_MT', 'TP_STATUS_REDACAO','NU_NOTA_REDACAO']"
   ]
  },
  {
   "cell_type": "code",
   "execution_count": 10,
   "id": "a2487df5",
   "metadata": {},
   "outputs": [],
   "source": [
    "#Atribuindo essas novas colunas para uma nova variável e utilizando o método filter()"
   ]
  },
  {
   "cell_type": "code",
   "execution_count": 11,
   "id": "da9f80b5",
   "metadata": {},
   "outputs": [],
   "source": [
    "newDataSet = dataSet.filter( items = colunasSelecionadas )"
   ]
  },
  {
   "cell_type": "code",
   "execution_count": 12,
   "id": "4300ce7d",
   "metadata": {},
   "outputs": [],
   "source": [
    "#visualização das primeiras 5 linhas do novo conjunto de dados usanto o método head()"
   ]
  },
  {
   "cell_type": "code",
   "execution_count": 13,
   "id": "e2c9a8b9",
   "metadata": {},
   "outputs": [
    {
     "data": {
      "text/html": [
       "<div>\n",
       "<style scoped>\n",
       "    .dataframe tbody tr th:only-of-type {\n",
       "        vertical-align: middle;\n",
       "    }\n",
       "\n",
       "    .dataframe tbody tr th {\n",
       "        vertical-align: top;\n",
       "    }\n",
       "\n",
       "    .dataframe thead th {\n",
       "        text-align: right;\n",
       "    }\n",
       "</style>\n",
       "<table border=\"1\" class=\"dataframe\">\n",
       "  <thead>\n",
       "    <tr style=\"text-align: right;\">\n",
       "      <th></th>\n",
       "      <th>NU_INSCRICAO</th>\n",
       "      <th>NU_ANO</th>\n",
       "      <th>TP_FAIXA_ETARIA</th>\n",
       "      <th>TP_SEXO</th>\n",
       "      <th>TP_ESTADO_CIVIL</th>\n",
       "      <th>TP_COR_RACA</th>\n",
       "      <th>TP_NACIONALIDADE</th>\n",
       "      <th>TP_ST_CONCLUSAO</th>\n",
       "      <th>TP_ANO_CONCLUIU</th>\n",
       "      <th>TP_ESCOLA</th>\n",
       "      <th>...</th>\n",
       "      <th>TX_RESPOSTAS_CH</th>\n",
       "      <th>TX_RESPOSTAS_LC</th>\n",
       "      <th>TX_RESPOSTAS_MT</th>\n",
       "      <th>TP_LINGUA</th>\n",
       "      <th>TX_GABARITO_CN</th>\n",
       "      <th>TX_GABARITO_CH</th>\n",
       "      <th>TX_GABARITO_LC</th>\n",
       "      <th>TX_GABARITO_MT</th>\n",
       "      <th>TP_STATUS_REDACAO</th>\n",
       "      <th>NU_NOTA_REDACAO</th>\n",
       "    </tr>\n",
       "  </thead>\n",
       "  <tbody>\n",
       "    <tr>\n",
       "      <th>0</th>\n",
       "      <td>210053865474</td>\n",
       "      <td>2021</td>\n",
       "      <td>5</td>\n",
       "      <td>F</td>\n",
       "      <td>1</td>\n",
       "      <td>1</td>\n",
       "      <td>1</td>\n",
       "      <td>1</td>\n",
       "      <td>3</td>\n",
       "      <td>1</td>\n",
       "      <td>...</td>\n",
       "      <td>BBCCECEABCEABADDAAEECBEBADADAAABABBABBACCCBBB</td>\n",
       "      <td>99999BADDEAEBACADADDAEABCEECDDBBAEADEDEABADBBA...</td>\n",
       "      <td>NaN</td>\n",
       "      <td>1</td>\n",
       "      <td>NaN</td>\n",
       "      <td>BEECCAEABADBCAEBAAEEDDEBBBADBCBAAEEBBBADCCBBA</td>\n",
       "      <td>ABBACAAECACDBDDADEBDDCBDCEDBEDDBBBBDCEEAADABAC...</td>\n",
       "      <td>NaN</td>\n",
       "      <td>1.0</td>\n",
       "      <td>760.0</td>\n",
       "    </tr>\n",
       "    <tr>\n",
       "      <th>1</th>\n",
       "      <td>210052384164</td>\n",
       "      <td>2021</td>\n",
       "      <td>12</td>\n",
       "      <td>M</td>\n",
       "      <td>1</td>\n",
       "      <td>1</td>\n",
       "      <td>1</td>\n",
       "      <td>1</td>\n",
       "      <td>11</td>\n",
       "      <td>1</td>\n",
       "      <td>...</td>\n",
       "      <td>ECCDAAEBCDACBDBDECABBEAACBCBCCCDACEABEBEBACAE</td>\n",
       "      <td>99999ACECCEEBACDABACBECBBCDBDEBDDCCCDECCDDCCCC...</td>\n",
       "      <td>CDCCBCCCDCCCCBEACEECAEABECCCDCBBCABACDAEDCCEC</td>\n",
       "      <td>1</td>\n",
       "      <td>DABCEDEBEEBBCABEDDCBCBECDADCDAACBDCCCDBBBEBAB</td>\n",
       "      <td>EBAAEADBCACBBABEECBAAEEBBBADCBADBCEDDEBBCAEAB</td>\n",
       "      <td>ACABBACAEADCEADABDACDCEABDDADBEDDDEBBACCDDDCCE...</td>\n",
       "      <td>DCCAEBABDDCABEECCBCCEXADDCEECDEBADCABBDBDEDCE</td>\n",
       "      <td>1.0</td>\n",
       "      <td>560.0</td>\n",
       "    </tr>\n",
       "    <tr>\n",
       "      <th>2</th>\n",
       "      <td>210052589243</td>\n",
       "      <td>2021</td>\n",
       "      <td>13</td>\n",
       "      <td>F</td>\n",
       "      <td>3</td>\n",
       "      <td>1</td>\n",
       "      <td>1</td>\n",
       "      <td>1</td>\n",
       "      <td>15</td>\n",
       "      <td>1</td>\n",
       "      <td>...</td>\n",
       "      <td>NaN</td>\n",
       "      <td>NaN</td>\n",
       "      <td>NaN</td>\n",
       "      <td>1</td>\n",
       "      <td>NaN</td>\n",
       "      <td>NaN</td>\n",
       "      <td>NaN</td>\n",
       "      <td>NaN</td>\n",
       "      <td>NaN</td>\n",
       "      <td>NaN</td>\n",
       "    </tr>\n",
       "    <tr>\n",
       "      <th>3</th>\n",
       "      <td>210052128335</td>\n",
       "      <td>2021</td>\n",
       "      <td>3</td>\n",
       "      <td>M</td>\n",
       "      <td>1</td>\n",
       "      <td>3</td>\n",
       "      <td>1</td>\n",
       "      <td>2</td>\n",
       "      <td>0</td>\n",
       "      <td>2</td>\n",
       "      <td>...</td>\n",
       "      <td>CBBDABAABBAAEECEBAADADBEBCAEEBEDDEBBBADBCBEDC</td>\n",
       "      <td>ABBCA99999CDECCCBADCDBCEAEBBAAEADEEADDACAEDDAB...</td>\n",
       "      <td>EACDCEACDDDDCBDDCABADAEBACDCDDEDBBCDBECACCCCA</td>\n",
       "      <td>0</td>\n",
       "      <td>CDBBBCABEDEDEAAEBACCCBDABCDCBCBDECDADCDBBEEBB</td>\n",
       "      <td>BBBAAEECBBABEECEBAAEADBCACAEABEDDEBBBADBCBADC</td>\n",
       "      <td>ABBCAEAACADDCACDCADABBBBDEBBACEADCEBDDACEEDDDB...</td>\n",
       "      <td>ECCCABBDBDDDCEDDCABXEEEBABEDCEDCCAEBADBCCECDA</td>\n",
       "      <td>1.0</td>\n",
       "      <td>780.0</td>\n",
       "    </tr>\n",
       "    <tr>\n",
       "      <th>4</th>\n",
       "      <td>210051353021</td>\n",
       "      <td>2021</td>\n",
       "      <td>2</td>\n",
       "      <td>F</td>\n",
       "      <td>1</td>\n",
       "      <td>3</td>\n",
       "      <td>1</td>\n",
       "      <td>2</td>\n",
       "      <td>0</td>\n",
       "      <td>2</td>\n",
       "      <td>...</td>\n",
       "      <td>CAE.ACDCAAEBBEDEBCADADEDADAACEBDABBCEABBCDEAC</td>\n",
       "      <td>99999EAACBDCBECCABADBEDADCDADDCDDECABAADEBBDAC...</td>\n",
       "      <td>ACEDEBECABDABDEECBDEEADDDDBEBCEADCCADCADEDCEB</td>\n",
       "      <td>1</td>\n",
       "      <td>DABCEDEBEEBBCABEDDCBCBECDADCDAACBDCCCDBBBEBAB</td>\n",
       "      <td>EBAAEADBCACBBABEECBAAEEBBBADCBADBCEDDEBBCAEAB</td>\n",
       "      <td>ACABBACAEADCEADABDACDCEABDDADBEDDDEBBACCDDDCCE...</td>\n",
       "      <td>DCCAEBABDDCABEECCBCCEXADDCEECDEBADCABBDBDEDCE</td>\n",
       "      <td>1.0</td>\n",
       "      <td>780.0</td>\n",
       "    </tr>\n",
       "  </tbody>\n",
       "</table>\n",
       "<p>5 rows × 46 columns</p>\n",
       "</div>"
      ],
      "text/plain": [
       "   NU_INSCRICAO  NU_ANO  TP_FAIXA_ETARIA TP_SEXO  TP_ESTADO_CIVIL  \\\n",
       "0  210053865474    2021                5       F                1   \n",
       "1  210052384164    2021               12       M                1   \n",
       "2  210052589243    2021               13       F                3   \n",
       "3  210052128335    2021                3       M                1   \n",
       "4  210051353021    2021                2       F                1   \n",
       "\n",
       "   TP_COR_RACA  TP_NACIONALIDADE  TP_ST_CONCLUSAO  TP_ANO_CONCLUIU  TP_ESCOLA  \\\n",
       "0            1                 1                1                3          1   \n",
       "1            1                 1                1               11          1   \n",
       "2            1                 1                1               15          1   \n",
       "3            3                 1                2                0          2   \n",
       "4            3                 1                2                0          2   \n",
       "\n",
       "   ...                                TX_RESPOSTAS_CH  \\\n",
       "0  ...  BBCCECEABCEABADDAAEECBEBADADAAABABBABBACCCBBB   \n",
       "1  ...  ECCDAAEBCDACBDBDECABBEAACBCBCCCDACEABEBEBACAE   \n",
       "2  ...                                            NaN   \n",
       "3  ...  CBBDABAABBAAEECEBAADADBEBCAEEBEDDEBBBADBCBEDC   \n",
       "4  ...  CAE.ACDCAAEBBEDEBCADADEDADAACEBDABBCEABBCDEAC   \n",
       "\n",
       "                                     TX_RESPOSTAS_LC  \\\n",
       "0  99999BADDEAEBACADADDAEABCEECDDBBAEADEDEABADBBA...   \n",
       "1  99999ACECCEEBACDABACBECBBCDBDEBDDCCCDECCDDCCCC...   \n",
       "2                                                NaN   \n",
       "3  ABBCA99999CDECCCBADCDBCEAEBBAAEADEEADDACAEDDAB...   \n",
       "4  99999EAACBDCBECCABADBEDADCDADDCDDECABAADEBBDAC...   \n",
       "\n",
       "                                 TX_RESPOSTAS_MT TP_LINGUA  \\\n",
       "0                                            NaN         1   \n",
       "1  CDCCBCCCDCCCCBEACEECAEABECCCDCBBCABACDAEDCCEC         1   \n",
       "2                                            NaN         1   \n",
       "3  EACDCEACDDDDCBDDCABADAEBACDCDDEDBBCDBECACCCCA         0   \n",
       "4  ACEDEBECABDABDEECBDEEADDDDBEBCEADCCADCADEDCEB         1   \n",
       "\n",
       "                                  TX_GABARITO_CN  \\\n",
       "0                                            NaN   \n",
       "1  DABCEDEBEEBBCABEDDCBCBECDADCDAACBDCCCDBBBEBAB   \n",
       "2                                            NaN   \n",
       "3  CDBBBCABEDEDEAAEBACCCBDABCDCBCBDECDADCDBBEEBB   \n",
       "4  DABCEDEBEEBBCABEDDCBCBECDADCDAACBDCCCDBBBEBAB   \n",
       "\n",
       "                                  TX_GABARITO_CH  \\\n",
       "0  BEECCAEABADBCAEBAAEEDDEBBBADBCBAAEEBBBADCCBBA   \n",
       "1  EBAAEADBCACBBABEECBAAEEBBBADCBADBCEDDEBBCAEAB   \n",
       "2                                            NaN   \n",
       "3  BBBAAEECBBABEECEBAAEADBCACAEABEDDEBBBADBCBADC   \n",
       "4  EBAAEADBCACBBABEECBAAEEBBBADCBADBCEDDEBBCAEAB   \n",
       "\n",
       "                                      TX_GABARITO_LC  \\\n",
       "0  ABBACAAECACDBDDADEBDDCBDCEDBEDDBBBBDCEEAADABAC...   \n",
       "1  ACABBACAEADCEADABDACDCEABDDADBEDDDEBBACCDDDCCE...   \n",
       "2                                                NaN   \n",
       "3  ABBCAEAACADDCACDCADABBBBDEBBACEADCEBDDACEEDDDB...   \n",
       "4  ACABBACAEADCEADABDACDCEABDDADBEDDDEBBACCDDDCCE...   \n",
       "\n",
       "                                  TX_GABARITO_MT  TP_STATUS_REDACAO  \\\n",
       "0                                            NaN                1.0   \n",
       "1  DCCAEBABDDCABEECCBCCEXADDCEECDEBADCABBDBDEDCE                1.0   \n",
       "2                                            NaN                NaN   \n",
       "3  ECCCABBDBDDDCEDDCABXEEEBABEDCEDCCAEBADBCCECDA                1.0   \n",
       "4  DCCAEBABDDCABEECCBCCEXADDCEECDEBADCABBDBDEDCE                1.0   \n",
       "\n",
       "   NU_NOTA_REDACAO  \n",
       "0            760.0  \n",
       "1            560.0  \n",
       "2              NaN  \n",
       "3            780.0  \n",
       "4            780.0  \n",
       "\n",
       "[5 rows x 46 columns]"
      ]
     },
     "execution_count": 13,
     "metadata": {},
     "output_type": "execute_result"
    }
   ],
   "source": [
    "newDataSet.head()"
   ]
  },
  {
   "cell_type": "code",
   "execution_count": 14,
   "id": "b1b19821",
   "metadata": {},
   "outputs": [],
   "source": [
    "#Analisando os dados de uma coluna específica "
   ]
  },
  {
   "cell_type": "code",
   "execution_count": 15,
   "id": "37c1acda",
   "metadata": {},
   "outputs": [],
   "source": [
    "colunaShow = newDataSet ['TP_ST_CONCLUSAO'] # TP_ST_CONCLUSÂO = situação de conclusão do ensino médio"
   ]
  },
  {
   "cell_type": "code",
   "execution_count": 17,
   "id": "e5e46f9e",
   "metadata": {},
   "outputs": [],
   "source": [
    "#Realizando a contagem dos dados contidos na coluna previamente selecionada,\n",
    "#e agrupando eles do caso de maior ocorrência para o de menor ocorrência."
   ]
  },
  {
   "cell_type": "code",
   "execution_count": 19,
   "id": "ab428b75",
   "metadata": {
    "scrolled": true
   },
   "outputs": [
    {
     "data": {
      "text/plain": [
       "1    1283663\n",
       "2    1024158\n",
       "3     368962\n",
       "4       8270\n",
       "Name: TP_ST_CONCLUSAO, dtype: int64"
      ]
     },
     "execution_count": 19,
     "metadata": {},
     "output_type": "execute_result"
    }
   ],
   "source": [
    "colunaShow.value_counts().sort_index()"
   ]
  },
  {
   "cell_type": "code",
   "execution_count": 20,
   "id": "dc971c6d",
   "metadata": {},
   "outputs": [],
   "source": [
    "#Utilizando a biblioteca do matplotlib para montagem e visualização de gráficos, \n",
    "#método hist() sendo utilizado aqui para realizar essa montagem."
   ]
  },
  {
   "cell_type": "code",
   "execution_count": 21,
   "id": "0d61c384",
   "metadata": {},
   "outputs": [
    {
     "data": {
      "text/plain": [
       "<AxesSubplot:>"
      ]
     },
     "execution_count": 21,
     "metadata": {},
     "output_type": "execute_result"
    },
    {
     "data": {
      "image/png": "[encoded data removed]",
      "text/plain": [
       "<Figure size 432x288 with 1 Axes>"
      ]
     },
     "metadata": {
      "needs_background": "light"
     },
     "output_type": "display_data"
    }
   ],
   "source": [
    "colunaShow.hist() #Representação gráfica"
   ]
  },
  {
   "cell_type": "code",
   "execution_count": 22,
   "id": "85fa01c1",
   "metadata": {},
   "outputs": [],
   "source": [
    "colunaShow = newDataSet ['NU_NOTA_CN'] #Notas da prova de Ciências da Natureza."
   ]
  },
  {
   "cell_type": "code",
   "execution_count": null,
   "id": "6962f05a",
   "metadata": {},
   "outputs": [],
   "source": [
    "#Realizando a contagem dos dados contidos na coluna previamente selecionada,\n",
    "#e agrupando eles do caso de maior ocorrência para o de menor ocorrência."
   ]
  },
  {
   "cell_type": "code",
   "execution_count": 23,
   "id": "b0c1e896",
   "metadata": {},
   "outputs": [
    {
     "data": {
      "text/plain": [
       "446.5    1051\n",
       "450.7    1044\n",
       "445.6    1043\n",
       "460.8    1032\n",
       "446.1    1029\n",
       "         ... \n",
       "816.8       1\n",
       "816.2       1\n",
       "807.0       1\n",
       "797.7       1\n",
       "797.3       1\n",
       "Name: NU_NOTA_CN, Length: 4746, dtype: int64"
      ]
     },
     "execution_count": 23,
     "metadata": {},
     "output_type": "execute_result"
    }
   ],
   "source": [
    "colunaShow.value_counts()"
   ]
  },
  {
   "cell_type": "code",
   "execution_count": 24,
   "id": "b18a9e52",
   "metadata": {},
   "outputs": [
    {
     "data": {
      "text/plain": [
       "<AxesSubplot:>"
      ]
     },
     "execution_count": 24,
     "metadata": {},
     "output_type": "execute_result"
    },
    {
     "data": {
      "image/png": "[encoded data removed]",
      "text/plain": [
       "<Figure size 432x288 with 1 Axes>"
      ]
     },
     "metadata": {
      "needs_background": "light"
     },
     "output_type": "display_data"
    }
   ],
   "source": [
    "colunaShow.hist(bins = 40) #Representação gráfica"
   ]
  },
  {
   "cell_type": "code",
   "execution_count": null,
   "id": "69ebf087",
   "metadata": {},
   "outputs": [],
   "source": [
    "colunaShow = newDataSet ['TP_FAIXA_ETARIA'] #Coluna listando a faixa etária dos participantes do Enem 2021"
   ]
  },
  {
   "cell_type": "code",
   "execution_count": 25,
   "id": "9d5a006b",
   "metadata": {},
   "outputs": [
    {
     "data": {
      "text/plain": [
       "0.0      319\n",
       "310.4      1\n",
       "318.5      1\n",
       "328.1      1\n",
       "329.8      1\n",
       "        ... \n",
       "854.3      1\n",
       "856.2      5\n",
       "856.6     15\n",
       "858.8      1\n",
       "867.1      5\n",
       "Name: NU_NOTA_CN, Length: 4746, dtype: int64"
      ]
     },
     "execution_count": 25,
     "metadata": {},
     "output_type": "execute_result"
    }
   ],
   "source": [
    "colunaShow.value_counts().sort_index() #listando e ordenando em ordem decrescente os resultados"
   ]
  },
  {
   "cell_type": "code",
   "execution_count": 26,
   "id": "a486daa1",
   "metadata": {},
   "outputs": [
    {
     "data": {
      "text/plain": [
       "<AxesSubplot:>"
      ]
     },
     "execution_count": 26,
     "metadata": {},
     "output_type": "execute_result"
    },
    {
     "data": {
      "image/png": "[encoded data removed]",
      "text/plain": [
       "<Figure size 432x288 with 1 Axes>"
      ]
     },
     "metadata": {
      "needs_background": "light"
     },
     "output_type": "display_data"
    }
   ],
   "source": [
    "colunaShow.hist(bins = 40) #Representação gráfica"
   ]
  },
  {
   "cell_type": "code",
   "execution_count": 27,
   "id": "721e4d3e",
   "metadata": {},
   "outputs": [],
   "source": [
    "colunaShow = newDataSet ['SG_UF_PROVA'] #Coluna dos estado brasileiros que realizaram a prova e a quantidade de provas feitas neles."
   ]
  },
  {
   "cell_type": "code",
   "execution_count": 28,
   "id": "79f5c9d1",
   "metadata": {},
   "outputs": [
    {
     "data": {
      "text/plain": [
       "SP    400583\n",
       "MG    256905\n",
       "BA    208034\n",
       "CE    195231\n",
       "RJ    186691\n",
       "PE    157963\n",
       "PA    141384\n",
       "RS    117530\n",
       "GO    116367\n",
       "PR    113264\n",
       "MA    100525\n",
       "PB     82710\n",
       "SC     64121\n",
       "PI     63849\n",
       "AM     63591\n",
       "RN     62998\n",
       "DF     52051\n",
       "ES     50868\n",
       "AL     44894\n",
       "SE     43722\n",
       "MT     43333\n",
       "MS     32246\n",
       "TO     24444\n",
       "RO     24211\n",
       "AC     15768\n",
       "AP     15669\n",
       "RR      6101\n",
       "Name: SG_UF_PROVA, dtype: int64"
      ]
     },
     "execution_count": 28,
     "metadata": {},
     "output_type": "execute_result"
    }
   ],
   "source": [
    "colunaShow.value_counts()"
   ]
  },
  {
   "cell_type": "code",
   "execution_count": 29,
   "id": "7f547484",
   "metadata": {},
   "outputs": [
    {
     "data": {
      "text/plain": [
       "<AxesSubplot:>"
      ]
     },
     "execution_count": 29,
     "metadata": {},
     "output_type": "execute_result"
    },
    {
     "data": {
      "image/png": "[encoded data removed]",
      "text/plain": [
       "<Figure size 432x288 with 1 Axes>"
      ]
     },
     "metadata": {
      "needs_background": "light"
     },
     "output_type": "display_data"
    }
   ],
   "source": [
    "colunaShow.hist(bins =10) #Representação gráfica"
   ]
  },
  {
   "cell_type": "code",
   "execution_count": 30,
   "id": "4e29464b",
   "metadata": {},
   "outputs": [],
   "source": [
    "colunaShow = newDataSet ['TP_PRESENCA_CN'] #Presença na prova de Ciências Naturais."
   ]
  },
  {
   "cell_type": "code",
   "execution_count": 31,
   "id": "25528e7a",
   "metadata": {},
   "outputs": [
    {
     "data": {
      "text/plain": [
       "1    1940703\n",
       "0     743149\n",
       "2       1201\n",
       "Name: TP_PRESENCA_CN, dtype: int64"
      ]
     },
     "execution_count": 31,
     "metadata": {},
     "output_type": "execute_result"
    }
   ],
   "source": [
    "colunaShow.value_counts()"
   ]
  },
  {
   "cell_type": "code",
   "execution_count": 32,
   "id": "a020336b",
   "metadata": {},
   "outputs": [
    {
     "data": {
      "text/plain": [
       "<AxesSubplot:>"
      ]
     },
     "execution_count": 32,
     "metadata": {},
     "output_type": "execute_result"
    },
    {
     "data": {
      "image/png": "[encoded data removed]",
      "text/plain": [
       "<Figure size 432x288 with 1 Axes>"
      ]
     },
     "metadata": {
      "needs_background": "light"
     },
     "output_type": "display_data"
    }
   ],
   "source": [
    "colunaShow.hist(bins = 20) #Representação gráfica"
   ]
  },
  {
   "cell_type": "code",
   "execution_count": null,
   "id": "7ce98ad5",
   "metadata": {},
   "outputs": [],
   "source": [
    "#Comparação das melhores notas da redação, checando as notas por sexo cadastrado (M,F).\n",
    "#Irei utilizar o método do pandas chamado GroupBy\n"
   ]
  },
  {
   "cell_type": "code",
   "execution_count": 33,
   "id": "272731db",
   "metadata": {},
   "outputs": [],
   "source": [
    "colunasSelecionadas = ['TP_SEXO', 'NU_NOTA_REDACAO']"
   ]
  },
  {
   "cell_type": "code",
   "execution_count": 34,
   "id": "b4fcdaee",
   "metadata": {},
   "outputs": [],
   "source": [
    "comparacaoSexo = dataSet.filter( items = colunasSelecionadas )"
   ]
  },
  {
   "cell_type": "code",
   "execution_count": 35,
   "id": "65add953",
   "metadata": {},
   "outputs": [
    {
     "data": {
      "text/html": [
       "<div>\n",
       "<style scoped>\n",
       "    .dataframe tbody tr th:only-of-type {\n",
       "        vertical-align: middle;\n",
       "    }\n",
       "\n",
       "    .dataframe tbody tr th {\n",
       "        vertical-align: top;\n",
       "    }\n",
       "\n",
       "    .dataframe thead th {\n",
       "        text-align: right;\n",
       "    }\n",
       "</style>\n",
       "<table border=\"1\" class=\"dataframe\">\n",
       "  <thead>\n",
       "    <tr style=\"text-align: right;\">\n",
       "      <th></th>\n",
       "      <th>TP_SEXO</th>\n",
       "      <th>NU_NOTA_REDACAO</th>\n",
       "    </tr>\n",
       "  </thead>\n",
       "  <tbody>\n",
       "    <tr>\n",
       "      <th>0</th>\n",
       "      <td>F</td>\n",
       "      <td>760.0</td>\n",
       "    </tr>\n",
       "    <tr>\n",
       "      <th>1</th>\n",
       "      <td>M</td>\n",
       "      <td>560.0</td>\n",
       "    </tr>\n",
       "    <tr>\n",
       "      <th>2</th>\n",
       "      <td>F</td>\n",
       "      <td>NaN</td>\n",
       "    </tr>\n",
       "    <tr>\n",
       "      <th>3</th>\n",
       "      <td>M</td>\n",
       "      <td>780.0</td>\n",
       "    </tr>\n",
       "    <tr>\n",
       "      <th>4</th>\n",
       "      <td>F</td>\n",
       "      <td>780.0</td>\n",
       "    </tr>\n",
       "  </tbody>\n",
       "</table>\n",
       "</div>"
      ],
      "text/plain": [
       "  TP_SEXO  NU_NOTA_REDACAO\n",
       "0       F            760.0\n",
       "1       M            560.0\n",
       "2       F              NaN\n",
       "3       M            780.0\n",
       "4       F            780.0"
      ]
     },
     "execution_count": 35,
     "metadata": {},
     "output_type": "execute_result"
    }
   ],
   "source": [
    "comparacaoSexo.head()"
   ]
  },
  {
   "cell_type": "code",
   "execution_count": 39,
   "id": "bc277e52",
   "metadata": {},
   "outputs": [
    {
     "data": {
      "text/plain": [
       "'Presença de linhas com \"NaN\" ou Not-a-Number, como ele está presente na coluna de notas da redação,\\nonde só deveriam constar números de notas tomaremos que os alunos não foram fazer a prova de redação.\\nContudo, utilizarei o método dropna da biblioteca pandas para eliminar esses NaN da coluna e trabalhar\\nsomente com os valores presentes.'"
      ]
     },
     "execution_count": 39,
     "metadata": {},
     "output_type": "execute_result"
    }
   ],
   "source": [
    "'''Presença de linhas com \"NaN\" ou Not-a-Number, como ele está presente na coluna de notas da redação,\n",
    "onde só deveriam constar números de notas tomaremos que os alunos não foram fazer a prova de redação.\n",
    "Contudo, utilizarei o método dropna da biblioteca pandas para eliminar esses NaN da coluna e trabalhar\n",
    "somente com os valores presentes.'''"
   ]
  },
  {
   "cell_type": "code",
   "execution_count": 38,
   "id": "d151fbc9",
   "metadata": {},
   "outputs": [],
   "source": [
    "comparacaoSexo = comparacaoSexo.dropna() "
   ]
  },
  {
   "cell_type": "code",
   "execution_count": 40,
   "id": "cce1d452",
   "metadata": {},
   "outputs": [
    {
     "data": {
      "text/html": [
       "<div>\n",
       "<style scoped>\n",
       "    .dataframe tbody tr th:only-of-type {\n",
       "        vertical-align: middle;\n",
       "    }\n",
       "\n",
       "    .dataframe tbody tr th {\n",
       "        vertical-align: top;\n",
       "    }\n",
       "\n",
       "    .dataframe thead th {\n",
       "        text-align: right;\n",
       "    }\n",
       "</style>\n",
       "<table border=\"1\" class=\"dataframe\">\n",
       "  <thead>\n",
       "    <tr style=\"text-align: right;\">\n",
       "      <th></th>\n",
       "      <th>TP_SEXO</th>\n",
       "      <th>NU_NOTA_REDACAO</th>\n",
       "    </tr>\n",
       "  </thead>\n",
       "  <tbody>\n",
       "    <tr>\n",
       "      <th>0</th>\n",
       "      <td>F</td>\n",
       "      <td>760.0</td>\n",
       "    </tr>\n",
       "    <tr>\n",
       "      <th>1</th>\n",
       "      <td>M</td>\n",
       "      <td>560.0</td>\n",
       "    </tr>\n",
       "    <tr>\n",
       "      <th>3</th>\n",
       "      <td>M</td>\n",
       "      <td>780.0</td>\n",
       "    </tr>\n",
       "    <tr>\n",
       "      <th>4</th>\n",
       "      <td>F</td>\n",
       "      <td>780.0</td>\n",
       "    </tr>\n",
       "    <tr>\n",
       "      <th>6</th>\n",
       "      <td>F</td>\n",
       "      <td>480.0</td>\n",
       "    </tr>\n",
       "  </tbody>\n",
       "</table>\n",
       "</div>"
      ],
      "text/plain": [
       "  TP_SEXO  NU_NOTA_REDACAO\n",
       "0       F            760.0\n",
       "1       M            560.0\n",
       "3       M            780.0\n",
       "4       F            780.0\n",
       "6       F            480.0"
      ]
     },
     "execution_count": 40,
     "metadata": {},
     "output_type": "execute_result"
    }
   ],
   "source": [
    "comparacaoSexo.head()"
   ]
  },
  {
   "cell_type": "code",
   "execution_count": null,
   "id": "5c03e79b",
   "metadata": {},
   "outputs": [],
   "source": [
    "#Realizei um agrupamento por sexo utilizando o groupby e pedi para contar a quantidade de sexo declarados femininos ou masculinos."
   ]
  },
  {
   "cell_type": "code",
   "execution_count": 41,
   "id": "bec11e63",
   "metadata": {},
   "outputs": [
    {
     "data": {
      "text/html": [
       "<div>\n",
       "<style scoped>\n",
       "    .dataframe tbody tr th:only-of-type {\n",
       "        vertical-align: middle;\n",
       "    }\n",
       "\n",
       "    .dataframe tbody tr th {\n",
       "        vertical-align: top;\n",
       "    }\n",
       "\n",
       "    .dataframe thead th {\n",
       "        text-align: right;\n",
       "    }\n",
       "</style>\n",
       "<table border=\"1\" class=\"dataframe\">\n",
       "  <thead>\n",
       "    <tr style=\"text-align: right;\">\n",
       "      <th></th>\n",
       "      <th>NU_NOTA_REDACAO</th>\n",
       "    </tr>\n",
       "    <tr>\n",
       "      <th>TP_SEXO</th>\n",
       "      <th></th>\n",
       "    </tr>\n",
       "  </thead>\n",
       "  <tbody>\n",
       "    <tr>\n",
       "      <th>F</th>\n",
       "      <td>1284798</td>\n",
       "    </tr>\n",
       "    <tr>\n",
       "      <th>M</th>\n",
       "      <td>756975</td>\n",
       "    </tr>\n",
       "  </tbody>\n",
       "</table>\n",
       "</div>"
      ],
      "text/plain": [
       "         NU_NOTA_REDACAO\n",
       "TP_SEXO                 \n",
       "F                1284798\n",
       "M                 756975"
      ]
     },
     "execution_count": 41,
     "metadata": {},
     "output_type": "execute_result"
    }
   ],
   "source": [
    "comparacaoSexo.groupby('TP_SEXO').count() "
   ]
  },
  {
   "cell_type": "code",
   "execution_count": 42,
   "id": "adf06f61",
   "metadata": {},
   "outputs": [
    {
     "data": {
      "text/html": [
       "<div>\n",
       "<style scoped>\n",
       "    .dataframe tbody tr th:only-of-type {\n",
       "        vertical-align: middle;\n",
       "    }\n",
       "\n",
       "    .dataframe tbody tr th {\n",
       "        vertical-align: top;\n",
       "    }\n",
       "\n",
       "    .dataframe thead th {\n",
       "        text-align: right;\n",
       "    }\n",
       "</style>\n",
       "<table border=\"1\" class=\"dataframe\">\n",
       "  <thead>\n",
       "    <tr style=\"text-align: right;\">\n",
       "      <th></th>\n",
       "      <th>NU_NOTA_REDACAO</th>\n",
       "    </tr>\n",
       "    <tr>\n",
       "      <th>TP_SEXO</th>\n",
       "      <th></th>\n",
       "    </tr>\n",
       "  </thead>\n",
       "  <tbody>\n",
       "    <tr>\n",
       "      <th>F</th>\n",
       "      <td>1000.0</td>\n",
       "    </tr>\n",
       "    <tr>\n",
       "      <th>M</th>\n",
       "      <td>1000.0</td>\n",
       "    </tr>\n",
       "  </tbody>\n",
       "</table>\n",
       "</div>"
      ],
      "text/plain": [
       "         NU_NOTA_REDACAO\n",
       "TP_SEXO                 \n",
       "F                 1000.0\n",
       "M                 1000.0"
      ]
     },
     "execution_count": 42,
     "metadata": {},
     "output_type": "execute_result"
    }
   ],
   "source": [
    "comparacaoSexo.groupby('TP_SEXO').max() #nota máxima atingida por ambos os sexos."
   ]
  },
  {
   "cell_type": "code",
   "execution_count": 43,
   "id": "a41f13ab",
   "metadata": {},
   "outputs": [
    {
     "data": {
      "text/html": [
       "<div>\n",
       "<style scoped>\n",
       "    .dataframe tbody tr th:only-of-type {\n",
       "        vertical-align: middle;\n",
       "    }\n",
       "\n",
       "    .dataframe tbody tr th {\n",
       "        vertical-align: top;\n",
       "    }\n",
       "\n",
       "    .dataframe thead th {\n",
       "        text-align: right;\n",
       "    }\n",
       "</style>\n",
       "<table border=\"1\" class=\"dataframe\">\n",
       "  <thead>\n",
       "    <tr style=\"text-align: right;\">\n",
       "      <th></th>\n",
       "      <th>NU_NOTA_REDACAO</th>\n",
       "    </tr>\n",
       "    <tr>\n",
       "      <th>TP_SEXO</th>\n",
       "      <th></th>\n",
       "    </tr>\n",
       "  </thead>\n",
       "  <tbody>\n",
       "    <tr>\n",
       "      <th>F</th>\n",
       "      <td>0.0</td>\n",
       "    </tr>\n",
       "    <tr>\n",
       "      <th>M</th>\n",
       "      <td>0.0</td>\n",
       "    </tr>\n",
       "  </tbody>\n",
       "</table>\n",
       "</div>"
      ],
      "text/plain": [
       "         NU_NOTA_REDACAO\n",
       "TP_SEXO                 \n",
       "F                    0.0\n",
       "M                    0.0"
      ]
     },
     "execution_count": 43,
     "metadata": {},
     "output_type": "execute_result"
    }
   ],
   "source": [
    "comparacaoSexo.groupby('TP_SEXO').min() #nota mínima atingida por ambos os sexos também."
   ]
  },
  {
   "cell_type": "code",
   "execution_count": 45,
   "id": "923a6ac7",
   "metadata": {},
   "outputs": [
    {
     "data": {
      "text/html": [
       "<div>\n",
       "<style scoped>\n",
       "    .dataframe tbody tr th:only-of-type {\n",
       "        vertical-align: middle;\n",
       "    }\n",
       "\n",
       "    .dataframe tbody tr th {\n",
       "        vertical-align: top;\n",
       "    }\n",
       "\n",
       "    .dataframe thead th {\n",
       "        text-align: right;\n",
       "    }\n",
       "</style>\n",
       "<table border=\"1\" class=\"dataframe\">\n",
       "  <thead>\n",
       "    <tr style=\"text-align: right;\">\n",
       "      <th></th>\n",
       "      <th>NU_NOTA_REDACAO</th>\n",
       "    </tr>\n",
       "    <tr>\n",
       "      <th>TP_SEXO</th>\n",
       "      <th></th>\n",
       "    </tr>\n",
       "  </thead>\n",
       "  <tbody>\n",
       "    <tr>\n",
       "      <th>F</th>\n",
       "      <td>40.0</td>\n",
       "    </tr>\n",
       "    <tr>\n",
       "      <th>M</th>\n",
       "      <td>40.0</td>\n",
       "    </tr>\n",
       "  </tbody>\n",
       "</table>\n",
       "</div>"
      ],
      "text/plain": [
       "         NU_NOTA_REDACAO\n",
       "TP_SEXO                 \n",
       "F                   40.0\n",
       "M                   40.0"
      ]
     },
     "execution_count": 45,
     "metadata": {},
     "output_type": "execute_result"
    }
   ],
   "source": [
    "comparacaoSexo[comparacaoSexo.NU_NOTA_REDACAO > 0].groupby ('TP_SEXO').min() "
   ]
  },
  {
   "cell_type": "code",
   "execution_count": 46,
   "id": "74160a1e",
   "metadata": {},
   "outputs": [
    {
     "data": {
      "text/html": [
       "<div>\n",
       "<style scoped>\n",
       "    .dataframe tbody tr th:only-of-type {\n",
       "        vertical-align: middle;\n",
       "    }\n",
       "\n",
       "    .dataframe tbody tr th {\n",
       "        vertical-align: top;\n",
       "    }\n",
       "\n",
       "    .dataframe thead th {\n",
       "        text-align: right;\n",
       "    }\n",
       "</style>\n",
       "<table border=\"1\" class=\"dataframe\">\n",
       "  <thead>\n",
       "    <tr style=\"text-align: right;\">\n",
       "      <th></th>\n",
       "      <th>NU_NOTA_REDACAO</th>\n",
       "    </tr>\n",
       "    <tr>\n",
       "      <th>TP_SEXO</th>\n",
       "      <th></th>\n",
       "    </tr>\n",
       "  </thead>\n",
       "  <tbody>\n",
       "    <tr>\n",
       "      <th>F</th>\n",
       "      <td>633.999493</td>\n",
       "    </tr>\n",
       "    <tr>\n",
       "      <th>M</th>\n",
       "      <td>606.498471</td>\n",
       "    </tr>\n",
       "  </tbody>\n",
       "</table>\n",
       "</div>"
      ],
      "text/plain": [
       "         NU_NOTA_REDACAO\n",
       "TP_SEXO                 \n",
       "F             633.999493\n",
       "M             606.498471"
      ]
     },
     "execution_count": 46,
     "metadata": {},
     "output_type": "execute_result"
    }
   ],
   "source": [
    "comparacaoSexo.groupby('TP_SEXO').mean()"
   ]
  },
  {
   "cell_type": "code",
   "execution_count": 47,
   "id": "a1f75151",
   "metadata": {},
   "outputs": [
    {
     "data": {
      "text/html": [
       "<div>\n",
       "<style scoped>\n",
       "    .dataframe tbody tr th:only-of-type {\n",
       "        vertical-align: middle;\n",
       "    }\n",
       "\n",
       "    .dataframe tbody tr th {\n",
       "        vertical-align: top;\n",
       "    }\n",
       "\n",
       "    .dataframe thead th {\n",
       "        text-align: right;\n",
       "    }\n",
       "</style>\n",
       "<table border=\"1\" class=\"dataframe\">\n",
       "  <thead>\n",
       "    <tr style=\"text-align: right;\">\n",
       "      <th></th>\n",
       "      <th>NU_NOTA_REDACAO</th>\n",
       "    </tr>\n",
       "    <tr>\n",
       "      <th>TP_SEXO</th>\n",
       "      <th></th>\n",
       "    </tr>\n",
       "  </thead>\n",
       "  <tbody>\n",
       "    <tr>\n",
       "      <th>F</th>\n",
       "      <td>620.0</td>\n",
       "    </tr>\n",
       "    <tr>\n",
       "      <th>M</th>\n",
       "      <td>600.0</td>\n",
       "    </tr>\n",
       "  </tbody>\n",
       "</table>\n",
       "</div>"
      ],
      "text/plain": [
       "         NU_NOTA_REDACAO\n",
       "TP_SEXO                 \n",
       "F                  620.0\n",
       "M                  600.0"
      ]
     },
     "execution_count": 47,
     "metadata": {},
     "output_type": "execute_result"
    }
   ],
   "source": [
    "comparacaoSexo.groupby('TP_SEXO').median()"
   ]
  },
  {
   "cell_type": "code",
   "execution_count": 49,
   "id": "1a4f2190",
   "metadata": {},
   "outputs": [
    {
     "data": {
      "text/plain": [
       "TP_SEXO\n",
       "F    [[AxesSubplot(0.125,0.125;0.775x0.755)]]\n",
       "M    [[AxesSubplot(0.125,0.125;0.775x0.755)]]\n",
       "dtype: object"
      ]
     },
     "execution_count": 49,
     "metadata": {},
     "output_type": "execute_result"
    },
    {
     "data": {
      "image/png": "[encoded data removed]",
      "text/plain": [
       "<Figure size 432x288 with 1 Axes>"
      ]
     },
     "metadata": {
      "needs_background": "light"
     },
     "output_type": "display_data"
    },
    {
     "data": {
      "image/png": "[encoded data removed]",
      "text/plain": [
       "<Figure size 432x288 with 1 Axes>"
      ]
     },
     "metadata": {
      "needs_background": "light"
     },
     "output_type": "display_data"
    }
   ],
   "source": [
    "comparacaoSexo.groupby('TP_SEXO').hist(bins = 20)"
   ]
  },
  {
   "cell_type": "code",
   "execution_count": 50,
   "id": "51d1ec6f",
   "metadata": {},
   "outputs": [
    {
     "data": {
      "text/html": [
       "<div>\n",
       "<style scoped>\n",
       "    .dataframe tbody tr th:only-of-type {\n",
       "        vertical-align: middle;\n",
       "    }\n",
       "\n",
       "    .dataframe tbody tr th {\n",
       "        vertical-align: top;\n",
       "    }\n",
       "\n",
       "    .dataframe thead tr th {\n",
       "        text-align: left;\n",
       "    }\n",
       "\n",
       "    .dataframe thead tr:last-of-type th {\n",
       "        text-align: right;\n",
       "    }\n",
       "</style>\n",
       "<table border=\"1\" class=\"dataframe\">\n",
       "  <thead>\n",
       "    <tr>\n",
       "      <th></th>\n",
       "      <th colspan=\"8\" halign=\"left\">NU_NOTA_REDACAO</th>\n",
       "    </tr>\n",
       "    <tr>\n",
       "      <th></th>\n",
       "      <th>count</th>\n",
       "      <th>mean</th>\n",
       "      <th>std</th>\n",
       "      <th>min</th>\n",
       "      <th>25%</th>\n",
       "      <th>50%</th>\n",
       "      <th>75%</th>\n",
       "      <th>max</th>\n",
       "    </tr>\n",
       "    <tr>\n",
       "      <th>TP_SEXO</th>\n",
       "      <th></th>\n",
       "      <th></th>\n",
       "      <th></th>\n",
       "      <th></th>\n",
       "      <th></th>\n",
       "      <th></th>\n",
       "      <th></th>\n",
       "      <th></th>\n",
       "    </tr>\n",
       "  </thead>\n",
       "  <tbody>\n",
       "    <tr>\n",
       "      <th>F</th>\n",
       "      <td>1284798.0</td>\n",
       "      <td>633.999493</td>\n",
       "      <td>188.313942</td>\n",
       "      <td>0.0</td>\n",
       "      <td>540.0</td>\n",
       "      <td>620.0</td>\n",
       "      <td>760.0</td>\n",
       "      <td>1000.0</td>\n",
       "    </tr>\n",
       "    <tr>\n",
       "      <th>M</th>\n",
       "      <td>756975.0</td>\n",
       "      <td>606.498471</td>\n",
       "      <td>192.433705</td>\n",
       "      <td>0.0</td>\n",
       "      <td>520.0</td>\n",
       "      <td>600.0</td>\n",
       "      <td>720.0</td>\n",
       "      <td>1000.0</td>\n",
       "    </tr>\n",
       "  </tbody>\n",
       "</table>\n",
       "</div>"
      ],
      "text/plain": [
       "        NU_NOTA_REDACAO                                                    \\\n",
       "                  count        mean         std  min    25%    50%    75%   \n",
       "TP_SEXO                                                                     \n",
       "F             1284798.0  633.999493  188.313942  0.0  540.0  620.0  760.0   \n",
       "M              756975.0  606.498471  192.433705  0.0  520.0  600.0  720.0   \n",
       "\n",
       "                 \n",
       "            max  \n",
       "TP_SEXO          \n",
       "F        1000.0  \n",
       "M        1000.0  "
      ]
     },
     "execution_count": 50,
     "metadata": {},
     "output_type": "execute_result"
    }
   ],
   "source": [
    "comparacaoSexo.groupby('TP_SEXO').describe()"
   ]
  },
  {
   "cell_type": "code",
   "execution_count": null,
   "id": "4d71274c",
   "metadata": {},
   "outputs": [],
   "source": []
  }
 ],
 "metadata": {
  "kernelspec": {
   "display_name": "Python 3 (ipykernel)",
   "language": "python",
   "name": "python3"
  },
  "language_info": {
   "codemirror_mode": {
    "name": "ipython",
    "version": 3
   },
   "file_extension": ".py",
   "mimetype": "text/x-python",
   "name": "python",
   "nbconvert_exporter": "python",
   "pygments_lexer": "ipython3",
   "version": "3.10.5"
  }
 },
 "nbformat": 4,
 "nbformat_minor": 5
}
